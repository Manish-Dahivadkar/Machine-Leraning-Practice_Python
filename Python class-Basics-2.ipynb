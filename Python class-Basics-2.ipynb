{
 "cells": [
  {
   "cell_type": "code",
   "execution_count": 3,
   "metadata": {},
   "outputs": [],
   "source": [
    "import numpy as np"
   ]
  },
  {
   "cell_type": "code",
   "execution_count": 5,
   "metadata": {},
   "outputs": [
    {
     "name": "stdout",
     "output_type": "stream",
     "text": [
      "[ 1.          1.09090909  1.18181818  1.27272727  1.36363636  1.45454545\n",
      "  1.54545455  1.63636364  1.72727273  1.81818182  1.90909091  2.\n",
      "  2.09090909  2.18181818  2.27272727  2.36363636  2.45454545  2.54545455\n",
      "  2.63636364  2.72727273  2.81818182  2.90909091  3.          3.09090909\n",
      "  3.18181818  3.27272727  3.36363636  3.45454545  3.54545455  3.63636364\n",
      "  3.72727273  3.81818182  3.90909091  4.          4.09090909  4.18181818\n",
      "  4.27272727  4.36363636  4.45454545  4.54545455  4.63636364  4.72727273\n",
      "  4.81818182  4.90909091  5.          5.09090909  5.18181818  5.27272727\n",
      "  5.36363636  5.45454545  5.54545455  5.63636364  5.72727273  5.81818182\n",
      "  5.90909091  6.          6.09090909  6.18181818  6.27272727  6.36363636\n",
      "  6.45454545  6.54545455  6.63636364  6.72727273  6.81818182  6.90909091\n",
      "  7.          7.09090909  7.18181818  7.27272727  7.36363636  7.45454545\n",
      "  7.54545455  7.63636364  7.72727273  7.81818182  7.90909091  8.\n",
      "  8.09090909  8.18181818  8.27272727  8.36363636  8.45454545  8.54545455\n",
      "  8.63636364  8.72727273  8.81818182  8.90909091  9.          9.09090909\n",
      "  9.18181818  9.27272727  9.36363636  9.45454545  9.54545455  9.63636364\n",
      "  9.72727273  9.81818182  9.90909091 10.        ]\n"
     ]
    }
   ],
   "source": [
    "num1=np.linspace(1,10,100)#. in this code we are saying creat 100 numbers between values 1 to 10 with equal interval\n",
    "print(num1)\n"
   ]
  },
  {
   "cell_type": "code",
   "execution_count": 12,
   "metadata": {},
   "outputs": [
    {
     "data": {
      "text/plain": [
       "array([30, 46, 40, 44, 34])"
      ]
     },
     "execution_count": 12,
     "metadata": {},
     "output_type": "execute_result"
    }
   ],
   "source": [
    "np.random.randint(1,50,5)  #.. cretaing 5 integers randomly between 1 to 50..everytime codel will run output will change"
   ]
  },
  {
   "cell_type": "code",
   "execution_count": 23,
   "metadata": {},
   "outputs": [
    {
     "data": {
      "text/plain": [
       "numpy.ndarray"
      ]
     },
     "execution_count": 23,
     "metadata": {},
     "output_type": "execute_result"
    }
   ],
   "source": [
    "list1=[11,111,222]#created one list\n",
    "\n",
    "type(list1)# cchecked type of list\n",
    "\n",
    "arr1=np.array(list1) #..now converted list to array \n",
    "type(arr1) #..now check type of list"
   ]
  },
  {
   "cell_type": "code",
   "execution_count": 29,
   "metadata": {},
   "outputs": [
    {
     "data": {
      "text/plain": [
       "(3, 3)"
      ]
     },
     "execution_count": 29,
     "metadata": {},
     "output_type": "execute_result"
    }
   ],
   "source": [
    "#..creat another list\n",
    "\n",
    "list2=[3,4,7,8,15,20,23,30,31]\n",
    "arr2=np.array(list2)\n",
    "arr2.shape\n",
    "arr3=arr2.reshape(3,3)#..here we reshaped arry into 3x3 matrix\n",
    "arr3\n",
    "arr3.shape"
   ]
  },
  {
   "cell_type": "code",
   "execution_count": 32,
   "metadata": {},
   "outputs": [
    {
     "data": {
      "text/plain": [
       "array([[ 1,  2,  3],\n",
       "       [11, 12, 13],\n",
       "       [21, 22, 23]])"
      ]
     },
     "execution_count": 32,
     "metadata": {},
     "output_type": "execute_result"
    }
   ],
   "source": [
    "list4= [[1,2,3],[11,12,13],[21,22,23]]\n",
    "arr5=np.array(list4)\n",
    "arr5"
   ]
  },
  {
   "cell_type": "code",
   "execution_count": 33,
   "metadata": {},
   "outputs": [
    {
     "data": {
      "text/plain": [
       "23"
      ]
     },
     "execution_count": 33,
     "metadata": {},
     "output_type": "execute_result"
    }
   ],
   "source": [
    "arr5.max() #..will give maximum value in array"
   ]
  },
  {
   "cell_type": "code",
   "execution_count": 34,
   "metadata": {},
   "outputs": [
    {
     "data": {
      "text/plain": [
       "1"
      ]
     },
     "execution_count": 34,
     "metadata": {},
     "output_type": "execute_result"
    }
   ],
   "source": [
    "arr5.min()3 #will give minimum value in array"
   ]
  },
  {
   "cell_type": "code",
   "execution_count": 36,
   "metadata": {},
   "outputs": [
    {
     "data": {
      "text/plain": [
       "array([4.82866182, 4.21943425, 5.11665411, 4.62263525, 5.63001125,\n",
       "       4.69805994, 5.37727816, 4.5784238 , 5.38828224, 4.69951107,\n",
       "       4.65770616, 4.87261625, 5.22437865, 4.96088067, 5.06145371,\n",
       "       5.52552965, 5.27569112, 4.81911176, 4.76485607, 4.48403624,\n",
       "       4.22631838, 5.10181253, 4.81179724, 5.22729196, 5.06457965,\n",
       "       5.31602506, 5.61841423, 5.18809347, 5.19415236, 5.73039006,\n",
       "       5.32995881, 5.73412819, 4.83940438, 4.1049205 , 4.936445  ,\n",
       "       4.50607371, 4.65433428, 5.0514681 , 5.28319426, 4.00048484,\n",
       "       5.15241876, 5.95022412, 4.77377492, 5.09988563, 4.54712195,\n",
       "       5.3173004 , 5.51984251, 5.30661343, 4.62407783, 4.37085394,\n",
       "       4.58271051, 5.02968817, 4.9064471 , 5.44989412, 4.95825789,\n",
       "       5.24940827, 5.65315602, 5.14256027, 5.23784735, 5.46965141,\n",
       "       5.70570543, 4.55786131, 5.0510259 , 5.20906213, 5.5245623 ,\n",
       "       4.42260116, 4.35273139, 4.42140019, 5.2773966 , 4.49636098,\n",
       "       5.2387268 , 4.91325687, 5.30862603, 5.40123429, 5.64038094,\n",
       "       5.28974681, 4.81639691, 4.81681767, 4.4881349 , 5.08349074,\n",
       "       4.72972321, 4.82444242, 4.50017335, 5.51944744, 5.03911155,\n",
       "       4.8535645 , 5.21579084, 5.43819282, 5.30608189, 5.37176442,\n",
       "       5.41522639, 4.84874324, 5.09091818, 5.86809046, 4.41272936,\n",
       "       5.25319108, 5.20287915, 5.40321854, 5.48196529, 4.91666612,\n",
       "       4.97537522, 5.14804111, 5.63533157, 4.56353451, 4.87639632,\n",
       "       5.52946025, 5.00403857, 4.99296742, 5.29290343, 4.42901728,\n",
       "       4.73378604, 5.02341277, 5.22829476, 4.97261741, 5.12156992,\n",
       "       4.75279772, 5.20040602, 5.94248576, 5.65651469, 4.76316624,\n",
       "       5.16881702, 4.71907647, 5.57822046, 4.79209877, 4.7990571 ,\n",
       "       5.09118383, 5.71515122, 4.93579033, 5.09871833, 4.95055907,\n",
       "       4.76864824, 4.59779987, 4.43460673, 5.24314508, 5.06988157,\n",
       "       5.18652317, 5.62079173, 4.79247376, 5.34782321, 4.60075205,\n",
       "       4.85157426, 4.68483085, 4.70647463, 5.25717255, 5.465434  ,\n",
       "       4.79609824, 4.88179551, 4.74005058, 4.76653997, 5.08494585,\n",
       "       5.03067134, 5.27908977, 4.80970151, 4.81615384, 4.87493765,\n",
       "       5.19719173, 5.1794397 , 5.09953971, 5.43281516, 5.44100962,\n",
       "       5.02775835, 4.65112776, 4.85740217, 5.02386641, 5.45379504,\n",
       "       4.95535369, 4.84243734, 4.57230543, 4.22294077, 4.34287503,\n",
       "       4.90736948, 5.12964952, 5.26560991, 4.8742941 , 5.11960817,\n",
       "       4.92181738, 4.87577241, 4.66156085, 5.43164987, 4.8116063 ,\n",
       "       4.64442747, 5.41332164, 5.58170718, 5.18424365, 5.00336881,\n",
       "       5.2192196 , 4.51197832, 4.78425714, 4.46912612, 5.16638976,\n",
       "       5.02507408, 4.5704964 , 4.98133098, 5.50314021, 4.95933102,\n",
       "       5.14434424, 5.04082871, 5.34874004, 4.27400619, 4.50452449,\n",
       "       5.01893395, 4.71975319, 5.24808624, 3.83795286, 5.89061186,\n",
       "       4.60293308, 4.8688989 , 4.92819175, 4.53817288, 5.10274926,\n",
       "       5.2789255 , 4.83690833, 4.52076681, 5.21187883, 5.32957033,\n",
       "       4.68722047, 5.23110833, 5.3763566 , 4.98026733, 5.23447542,\n",
       "       5.21054334, 5.09072401, 5.07256459, 5.75432714, 4.86265416,\n",
       "       4.97231286, 4.83511303, 5.07927411, 5.25288365, 5.02844504,\n",
       "       4.71358654, 4.74899746, 5.01876258, 5.30014185, 5.09833604,\n",
       "       5.38230747, 4.78682234, 4.67421486, 4.70988822, 5.33876459,\n",
       "       4.87249199, 5.9133159 , 4.97866395, 5.19354119, 4.82509163,\n",
       "       4.16033729, 5.2703311 , 5.10507241, 4.96928613, 4.84605537,\n",
       "       4.6080735 , 5.04294793, 4.54770548, 4.99372008, 4.43932851,\n",
       "       5.16873622, 4.57044709, 4.53939429, 5.54102695, 5.08476684,\n",
       "       4.10312121, 4.55759832, 4.36355977, 5.19975561, 5.51333991,\n",
       "       4.91616247, 4.75328575, 5.37149343, 5.23763803, 4.4329305 ,\n",
       "       5.77892998, 4.92894134, 5.4193906 , 5.71451776, 5.59514685,\n",
       "       4.79924592, 4.33388745, 5.47785052, 4.36038109, 4.61979364,\n",
       "       5.80376578, 4.74116043, 4.893684  , 4.41199952, 4.84169142,\n",
       "       4.76202481, 5.12840631, 5.2682705 , 4.07218487, 5.62558813,\n",
       "       4.85472813, 5.2524373 , 5.48489751, 5.12492059, 4.9710192 ,\n",
       "       5.28456463, 5.05471475, 4.83461663, 5.33228829, 4.69549377,\n",
       "       5.14555834, 5.26937761, 4.52225908, 4.68215833, 5.39830767,\n",
       "       4.85184584, 5.1416221 , 5.42885503, 5.30924225, 4.76692179,\n",
       "       5.20869593, 4.93019275, 5.04224532, 5.1129595 , 4.33447318,\n",
       "       5.21527998, 5.42525325, 5.25023275, 5.06547025, 5.19304663,\n",
       "       5.25487983, 4.44478401, 6.36741868, 4.14443488, 5.2647173 ,\n",
       "       4.3244487 , 4.89723205, 4.28173187, 4.9923009 , 4.7340175 ,\n",
       "       4.99146291, 4.74592211, 4.10749447, 4.70791282, 5.22651943,\n",
       "       5.62761462, 4.48083124, 5.20282706, 5.31251083, 5.50119983,\n",
       "       5.17955282, 4.86916075, 5.00281666, 4.46877631, 5.7611398 ,\n",
       "       5.63334143, 4.31740068, 4.37909908, 4.70885352, 5.63515977,\n",
       "       5.42629684, 4.33551421, 4.87823449, 4.83518746, 5.64534951,\n",
       "       5.40377576, 5.18976426, 5.08723211, 4.93621529, 4.2490104 ,\n",
       "       4.52385959, 4.83031172, 4.53519631, 4.58980571, 5.33815692,\n",
       "       5.10243082, 4.82834554, 4.18929558, 4.47847523, 5.12841452,\n",
       "       5.57558531, 5.00429588, 5.33747112, 4.84744444, 5.1741731 ,\n",
       "       4.30297805, 4.90917106, 5.12741768, 4.42970164, 5.84963574,\n",
       "       5.68659069, 5.10177537, 4.9887978 , 5.28666115, 4.92150262,\n",
       "       4.6927713 , 4.64212125, 4.81903887, 4.29257183, 4.67119965,\n",
       "       4.75506751, 4.62205511, 5.25028748, 5.0762981 , 5.27754763,\n",
       "       4.88899179, 5.40138255, 5.64828526, 6.10987924, 4.30546713,\n",
       "       4.87221621, 4.87782435, 5.74145175, 5.1125974 , 4.79381711,\n",
       "       4.96917068, 4.81167317, 5.10629566, 4.82970907, 5.38951138,\n",
       "       4.75269367, 5.3732587 , 5.18056058, 5.09991321, 5.14965574,\n",
       "       4.88354805, 5.30097187, 4.89916756, 4.78855012, 5.45098228,\n",
       "       5.11761201, 4.96231455, 5.27809249, 5.4898014 , 5.12201132,\n",
       "       5.23077369, 5.02204549, 4.83333699, 4.22527278, 5.03524805,\n",
       "       4.59409376, 5.08703018, 5.30455459, 4.49329944, 5.38507098,\n",
       "       5.17474221, 4.66823074, 4.9758903 , 5.24008483, 5.18371934,\n",
       "       4.41096895, 4.82160816, 5.44940247, 4.9473703 , 5.53942771,\n",
       "       5.49808747, 5.65562522, 5.02369098, 4.83350049, 5.64842144,\n",
       "       4.85338831, 5.93527726, 5.04457887, 5.42087991, 5.5836133 ,\n",
       "       3.9036892 , 4.74818598, 4.31647577, 4.55795728, 4.94560727,\n",
       "       5.32943041, 4.72553332, 4.78986408, 5.10411298, 4.77438526,\n",
       "       5.13447148, 4.70396525, 4.81926442, 4.39200274, 5.35454819,\n",
       "       3.79818399, 4.63315699, 4.99025759, 5.10460463, 5.69990531,\n",
       "       6.33486133, 4.82422763, 5.55573857, 4.26480336, 5.1747367 ,\n",
       "       5.28306077, 5.31337763, 5.24718142, 5.23329682, 6.04266874,\n",
       "       4.86194392, 5.57462541, 5.74188439, 4.45224775, 5.50011592,\n",
       "       5.26105168, 5.02739174, 5.63393522, 4.93938737, 5.46854528,\n",
       "       4.8623075 , 4.96409194, 4.4325277 , 5.64024534, 4.2098287 ,\n",
       "       4.82821481, 5.02160194, 4.80607114, 5.51052786, 5.81654141,\n",
       "       4.91796871, 4.66543719, 5.01363855, 4.83971042, 5.05062162,\n",
       "       5.40224927, 5.32439412, 5.04722608, 4.26975699, 5.14785233,\n",
       "       5.50208102, 3.87826446, 4.49690248, 4.95019445, 5.12747898,\n",
       "       4.95526459, 5.02521955, 5.11746589, 4.87292359, 5.26753608,\n",
       "       4.94831778, 5.70621485, 4.51096791, 5.3157959 , 4.35748866,\n",
       "       5.83160165, 4.85940811, 5.00109389, 5.03474245, 5.46642784,\n",
       "       5.49020347, 4.89223107, 4.96360651, 4.71022958, 5.32833627,\n",
       "       5.43927303, 5.0245422 , 5.44379439, 5.06804099, 4.76775245,\n",
       "       5.05665023, 4.88471647, 5.64418974, 4.46223248, 5.12526302,\n",
       "       5.09940999, 5.99624965, 4.42165321, 4.90788763, 4.02687788,\n",
       "       5.42982507, 4.72744663, 5.41520433, 5.21542433, 5.59437724,\n",
       "       5.32208601, 4.54921801, 4.94389709, 4.40074149, 5.21256605,\n",
       "       5.6039221 , 5.1741866 , 4.77983852, 4.60773598, 5.66031696,\n",
       "       5.68178101, 4.4432008 , 5.08937978, 4.95375238, 5.61614902,\n",
       "       4.70229373, 5.7692131 , 5.10955547, 5.03498488, 5.55812018,\n",
       "       4.96956211, 4.52631473, 5.03667639, 5.57366025, 4.59957816,\n",
       "       4.87540416, 4.8808983 , 5.20945239, 4.96569413, 5.28120711,\n",
       "       4.66606903, 5.3174206 , 5.37304122, 4.60310433, 5.02486216,\n",
       "       5.04230878, 4.98876675, 4.28136792, 5.49730005, 5.24966109,\n",
       "       4.84966209, 4.6552599 , 5.67914045, 4.95862496, 5.16516871,\n",
       "       4.5631427 , 4.8502982 , 5.32344481, 4.82606646, 5.62926921,\n",
       "       5.58544466, 4.70458887, 5.25396194, 5.42507664, 4.89641956,\n",
       "       4.85567333, 4.73372092, 4.39112769, 5.20539935, 4.58638222,\n",
       "       6.07077412, 4.91892637, 4.73661704, 4.4852735 , 5.12329407,\n",
       "       4.45512585, 4.33878155, 4.72816046, 4.78286676, 5.30322688,\n",
       "       3.96927934, 5.12306549, 5.18839604, 4.65711112, 4.7733513 ,\n",
       "       4.66661256, 5.47615908, 5.15406174, 5.76367958, 3.90471488,\n",
       "       4.78389109, 4.98508711, 4.87491297, 4.59545149, 5.48265116,\n",
       "       4.22564074, 4.75266832, 4.98192588, 4.92238686, 5.21832595,\n",
       "       4.91246299, 5.31532661, 5.00739082, 5.02164833, 4.91039491,\n",
       "       4.42243909, 4.62725093, 4.3074593 , 4.3265485 , 4.74238732,\n",
       "       5.63042138, 4.75373529, 4.6674661 , 4.73851112, 5.29864187,\n",
       "       5.39192922, 5.16115212, 4.84820619, 4.65422967, 4.84038838,\n",
       "       4.42230089, 5.51795587, 4.72206265, 5.1861663 , 5.32517983,\n",
       "       5.21523293, 4.26030551, 4.74267926, 5.27303771, 4.85112666,\n",
       "       4.89549241, 4.63214904, 5.13364557, 4.49042747, 4.64811638,\n",
       "       5.21986355, 4.65532595, 5.10842047, 4.62978386, 4.75315581,\n",
       "       5.37354569, 4.99333913, 4.70753378, 5.74806132, 5.3526715 ,\n",
       "       4.1486777 , 4.93068271, 4.97608775, 4.73768318, 4.88168931,\n",
       "       5.25260116, 4.81982026, 5.93624909, 4.56641202, 4.86011523,\n",
       "       5.27165978, 5.06410976, 4.98633277, 5.35535438, 4.77357682,\n",
       "       5.10418219, 5.45298713, 4.82494516, 4.26996885, 5.23273294,\n",
       "       4.799503  , 4.57836397, 5.38109022, 5.46643095, 4.57901126,\n",
       "       5.18307072, 5.39132139, 4.59785535, 5.39363699, 5.15274736,\n",
       "       4.79626647, 5.0385629 , 5.43392945, 5.43932142, 4.63531214,\n",
       "       4.3321934 , 5.10151927, 5.18410333, 5.0690459 , 5.71448601,\n",
       "       5.7291137 , 5.04119237, 4.80784147, 5.42741904, 5.57155793,\n",
       "       4.94169048, 5.03743423, 4.97230563, 5.40037062, 5.54434397,\n",
       "       4.68996695, 5.88647554, 4.92076356, 5.47286488, 3.9352564 ,\n",
       "       4.88395753, 5.20279494, 4.4530177 , 4.57107866, 5.18758013,\n",
       "       4.89048334, 5.05428826, 4.66036214, 4.91955457, 4.30671545,\n",
       "       4.90695113, 4.48622801, 5.393309  , 5.0453116 , 5.04222054,\n",
       "       5.21926726, 4.82988496, 4.49370342, 5.22592218, 5.44858349,\n",
       "       4.54076388, 5.02402723, 4.58701972, 4.71464469, 4.86516239,\n",
       "       4.80293753, 4.57435627, 5.49846884, 5.4435904 , 5.50238229,\n",
       "       4.50663896, 4.66832435, 4.85219185, 4.92577938, 5.52969862,\n",
       "       4.6826934 , 4.71725321, 4.15998237, 5.69726446, 4.98338279,\n",
       "       4.87264851, 4.04938853, 5.17447561, 4.71846619, 4.96158164,\n",
       "       4.70412955, 4.89673538, 4.82727953, 4.78537718, 5.13884419,\n",
       "       5.12067008, 4.46573193, 5.29131034, 4.75231772, 4.61272089,\n",
       "       4.92887962, 4.24601706, 4.53128778, 5.26294094, 5.42270373,\n",
       "       4.96238093, 4.18706207, 4.73990569, 5.26407568, 6.12396268,\n",
       "       4.66726854, 5.07833125, 5.36781677, 4.82968785, 4.12708004,\n",
       "       4.60087276, 4.28530595, 4.58489257, 5.0474901 , 4.80746641,\n",
       "       5.15656381, 4.90637292, 4.95658331, 4.39865965, 5.67064334,\n",
       "       4.65474531, 5.41375407, 4.49776527, 4.83480853, 4.33967969,\n",
       "       4.9909108 , 4.1121867 , 4.95352233, 4.96324547, 4.30056942,\n",
       "       5.170073  , 4.71420964, 4.71880517, 4.53258504, 4.67647984,\n",
       "       3.86177984, 5.61100931, 4.93815379, 4.04973976, 4.9635145 ,\n",
       "       4.32300948, 4.97532457, 4.51816287, 5.52103827, 5.31679533,\n",
       "       5.03643479, 5.3474945 , 5.08791403, 5.66956487, 5.29412036,\n",
       "       5.11371968, 4.51316198, 5.24881984, 5.44299747, 4.47063203,\n",
       "       4.55028818, 4.98597858, 5.80872254, 5.22026948, 5.52957191,\n",
       "       4.93497591, 5.32627166, 5.23811331, 4.79560291, 5.23115696,\n",
       "       5.88111252, 4.81163285, 5.47726892, 4.3239967 , 4.86139046,\n",
       "       5.502619  , 5.29438189, 5.18986525, 5.09088066, 4.31209034,\n",
       "       4.89939006, 4.19372105, 4.8933528 , 5.37270434, 4.88076748,\n",
       "       5.51690415, 4.93328364, 4.67322423, 5.18263885, 4.88784094,\n",
       "       5.16617249, 4.87653229, 4.51451368, 5.68388085, 4.96479645,\n",
       "       4.39857151, 5.22372968, 4.73244743, 5.76383736, 4.85752721,\n",
       "       4.75320253, 4.86884289, 5.53168123, 4.80191741, 5.20718841,\n",
       "       4.92840837, 5.14785804, 5.27838248, 5.27570736, 4.59630543,\n",
       "       5.52726891, 4.44283869, 4.7585353 , 4.96897293, 5.22938472,\n",
       "       4.77266049, 4.15683689, 4.9414425 , 4.39918784, 4.65600455,\n",
       "       5.13817424, 4.97455825, 5.14917107, 4.79097015, 5.06986627,\n",
       "       5.25761523, 5.01023703, 4.41221336, 4.91119227, 5.34889064,\n",
       "       4.56044844, 5.18067813, 4.91188782, 5.21539403, 5.08887193,\n",
       "       5.09600369, 4.73629022, 5.10502791, 5.25361611, 5.56583478,\n",
       "       4.7928525 , 4.34883735, 5.05680233, 4.7347465 , 5.11912241,\n",
       "       5.99811197, 5.26570921, 5.77633279, 4.70731758, 5.54821445,\n",
       "       4.58432843, 5.17643401, 5.13423627, 4.55738516, 5.17663659,\n",
       "       5.11624802, 5.17989459, 3.70206938, 4.77760399, 4.64986582,\n",
       "       4.37454491, 5.09737291, 4.34855572, 5.26412244, 5.60950954,\n",
       "       4.81231708, 4.73899903, 4.7715109 , 4.78531723, 4.66090989,\n",
       "       4.74017546, 4.93956356, 5.48325272, 5.40757218, 4.9452982 ,\n",
       "       5.4159275 , 5.16065784, 4.84248035, 4.92749698, 5.01570473,\n",
       "       5.25144687, 5.06314388, 5.42422132, 5.17024568, 4.34946133,\n",
       "       5.21926856, 4.93994311, 5.71927435, 4.44917599, 4.36253332,\n",
       "       5.61184954, 4.60462009, 4.77806216, 5.07852361, 4.81438902])"
      ]
     },
     "execution_count": 36,
     "metadata": {},
     "output_type": "execute_result"
    }
   ],
   "source": [
    "#..here we are  creating random 1000 numbers which are normally distributed having mean 5 and sd is 0.4. These were randomly created\n",
    "\n",
    "var1=np.random.normal(5,0.4,1000)\n",
    "var1"
   ]
  },
  {
   "cell_type": "code",
   "execution_count": 37,
   "metadata": {},
   "outputs": [
    {
     "data": {
      "text/plain": [
       "4.9943783677495155"
      ]
     },
     "execution_count": 37,
     "metadata": {},
     "output_type": "execute_result"
    }
   ],
   "source": [
    "np.mean(var1) #..finding mean of variable"
   ]
  },
  {
   "cell_type": "code",
   "execution_count": 39,
   "metadata": {},
   "outputs": [
    {
     "data": {
      "text/plain": [
       "0.4117008052966181"
      ]
     },
     "execution_count": 39,
     "metadata": {},
     "output_type": "execute_result"
    }
   ],
   "source": [
    "np.std(var1) #..fining standard deviation of variable"
   ]
  },
  {
   "cell_type": "code",
   "execution_count": 40,
   "metadata": {},
   "outputs": [
    {
     "data": {
      "text/plain": [
       "4.986155674907005"
      ]
     },
     "execution_count": 40,
     "metadata": {},
     "output_type": "execute_result"
    }
   ],
   "source": [
    "np.median(var1) # finding median of variable"
   ]
  },
  {
   "cell_type": "code",
   "execution_count": 44,
   "metadata": {},
   "outputs": [
    {
     "data": {
      "text/plain": [
       "(array([  8.,  25.,  87., 162., 256., 241., 136.,  67.,  14.,   4.]),\n",
       " array([3.70206938, 3.96860431, 4.23513924, 4.50167417, 4.7682091 ,\n",
       "        5.03474403, 5.30127896, 5.56781389, 5.83434882, 6.10088375,\n",
       "        6.36741868]),\n",
       " <a list of 10 Patch objects>)"
      ]
     },
     "execution_count": 44,
     "metadata": {},
     "output_type": "execute_result"
    },
    {
     "data": {
      "image/png": "[encoded data removed]",
      "text/plain": [
       "<Figure size 432x288 with 1 Axes>"
      ]
     },
     "metadata": {
      "needs_background": "light"
     },
     "output_type": "display_data"
    }
   ],
   "source": [
    "import matplotlib.pyplot as plt\n",
    "import seaborn as sns\n",
    "\n",
    "plt.hist(var1)#...plottinh histogram to check normaliity"
   ]
  },
  {
   "cell_type": "code",
   "execution_count": 46,
   "metadata": {},
   "outputs": [
    {
     "data": {
      "text/plain": [
       "<matplotlib.axes._subplots.AxesSubplot at 0x2035a41f748>"
      ]
     },
     "execution_count": 46,
     "metadata": {},
     "output_type": "execute_result"
    },
    {
     "data": {
      "image/png": "[encoded data removed]",
      "text/plain": [
       "<Figure size 432x288 with 1 Axes>"
      ]
     },
     "metadata": {
      "needs_background": "light"
     },
     "output_type": "display_data"
    }
   ],
   "source": [
    "sns.distplot(var1)#..plotting histogram by seaborn library"
   ]
  },
  {
   "cell_type": "code",
   "execution_count": 50,
   "metadata": {},
   "outputs": [
    {
     "data": {
      "text/plain": [
       "array([ 0. ,  0.5,  1. ,  1.5,  2. ,  2.5,  3. ,  3.5,  4. ,  4.5,  5. ,\n",
       "        5.5,  6. ,  6.5,  7. ,  7.5,  8. ,  8.5,  9. ,  9.5, 10. , 10.5,\n",
       "       11. , 11.5, 12. , 12.5, 13. , 13.5, 14. , 14.5, 15. , 15.5, 16. ,\n",
       "       16.5, 17. , 17.5, 18. , 18.5, 19. , 19.5])"
      ]
     },
     "execution_count": 50,
     "metadata": {},
     "output_type": "execute_result"
    }
   ],
   "source": [
    "np.arange(0,20,0.5)#...creating numbers between 0 to 20 and these are in order by spacing 0.5"
   ]
  },
  {
   "cell_type": "code",
   "execution_count": 51,
   "metadata": {},
   "outputs": [
    {
     "data": {
      "text/plain": [
       "array([[1., 0., 0.],\n",
       "       [0., 1., 0.],\n",
       "       [0., 0., 1.]])"
      ]
     },
     "execution_count": 51,
     "metadata": {},
     "output_type": "execute_result"
    }
   ],
   "source": [
    "np.eye(3) #..crating identity matrix 3x3..not so useful"
   ]
  },
  {
   "cell_type": "code",
   "execution_count": 52,
   "metadata": {},
   "outputs": [
    {
     "data": {
      "text/plain": [
       "8.0"
      ]
     },
     "execution_count": 52,
     "metadata": {},
     "output_type": "execute_result"
    }
   ],
   "source": [
    "np.sqrt(64)"
   ]
  },
  {
   "cell_type": "code",
   "execution_count": 53,
   "metadata": {},
   "outputs": [
    {
     "data": {
      "text/plain": [
       "64"
      ]
     },
     "execution_count": 53,
     "metadata": {},
     "output_type": "execute_result"
    }
   ],
   "source": [
    "np.square(8)"
   ]
  },
  {
   "cell_type": "code",
   "execution_count": 55,
   "metadata": {},
   "outputs": [
    {
     "data": {
      "text/plain": [
       "125"
      ]
     },
     "execution_count": 55,
     "metadata": {},
     "output_type": "execute_result"
    }
   ],
   "source": [
    "np.power(5,3) #...raised power aclaculation"
   ]
  },
  {
   "cell_type": "code",
   "execution_count": 58,
   "metadata": {},
   "outputs": [
    {
     "data": {
      "text/plain": [
       "10"
      ]
     },
     "execution_count": 58,
     "metadata": {},
     "output_type": "execute_result"
    }
   ],
   "source": [
    "np.absolute(-10) #create absolute number"
   ]
  },
  {
   "cell_type": "code",
   "execution_count": 59,
   "metadata": {},
   "outputs": [
    {
     "data": {
      "text/plain": [
       "5.0"
      ]
     },
     "execution_count": 59,
     "metadata": {},
     "output_type": "execute_result"
    }
   ],
   "source": [
    "np.power(125,1/3)#...finding poweroot"
   ]
  },
  {
   "cell_type": "code",
   "execution_count": 61,
   "metadata": {},
   "outputs": [
    {
     "data": {
      "text/plain": [
       "array([ 1, 10, 15])"
      ]
     },
     "execution_count": 61,
     "metadata": {},
     "output_type": "execute_result"
    }
   ],
   "source": [
    "#...finding out unique values in list\n",
    "newlist=[1,1,1,10,10,10,15,15]\n",
    "np.unique(newlist)"
   ]
  },
  {
   "cell_type": "code",
   "execution_count": 80,
   "metadata": {},
   "outputs": [
    {
     "data": {
      "text/plain": [
       "3"
      ]
     },
     "execution_count": 80,
     "metadata": {},
     "output_type": "execute_result"
    }
   ],
   "source": [
    "len(np.unique(newlist)) #..finding out number of unique items"
   ]
  },
  {
   "cell_type": "code",
   "execution_count": 82,
   "metadata": {},
   "outputs": [
    {
     "data": {
      "text/plain": [
       "10"
      ]
     },
     "execution_count": 82,
     "metadata": {},
     "output_type": "execute_result"
    }
   ],
   "source": [
    "np.gcd(10,40)"
   ]
  },
  {
   "cell_type": "code",
   "execution_count": 83,
   "metadata": {},
   "outputs": [
    {
     "data": {
      "text/plain": [
       "20"
      ]
     },
     "execution_count": 83,
     "metadata": {},
     "output_type": "execute_result"
    }
   ],
   "source": [
    "np.lcm(10,4)"
   ]
  },
  {
   "cell_type": "code",
   "execution_count": null,
   "metadata": {},
   "outputs": [],
   "source": []
  },
  {
   "cell_type": "markdown",
   "metadata": {},
   "source": [
    "# New library_   math"
   ]
  },
  {
   "cell_type": "code",
   "execution_count": 81,
   "metadata": {},
   "outputs": [],
   "source": [
    "import math as math"
   ]
  },
  {
   "cell_type": "code",
   "execution_count": 66,
   "metadata": {},
   "outputs": [
    {
     "data": {
      "text/plain": [
       "120"
      ]
     },
     "execution_count": 66,
     "metadata": {},
     "output_type": "execute_result"
    }
   ],
   "source": [
    "math.factorial(5) #...will calculate value by factorial calculation"
   ]
  },
  {
   "cell_type": "code",
   "execution_count": 67,
   "metadata": {},
   "outputs": [
    {
     "data": {
      "text/plain": [
       "5"
      ]
     },
     "execution_count": 67,
     "metadata": {},
     "output_type": "execute_result"
    }
   ],
   "source": [
    "math.ceil(4.9)#...will roundup at upper side"
   ]
  },
  {
   "cell_type": "code",
   "execution_count": 68,
   "metadata": {},
   "outputs": [
    {
     "data": {
      "text/plain": [
       "4"
      ]
     },
     "execution_count": 68,
     "metadata": {},
     "output_type": "execute_result"
    }
   ],
   "source": [
    "math.floor(4.9) #..will rounddown at lower side"
   ]
  },
  {
   "cell_type": "code",
   "execution_count": 69,
   "metadata": {},
   "outputs": [
    {
     "data": {
      "text/plain": [
       "2.718281828459045"
      ]
     },
     "execution_count": 69,
     "metadata": {},
     "output_type": "execute_result"
    }
   ],
   "source": [
    "math.exp(1)#...exponential value"
   ]
  },
  {
   "cell_type": "code",
   "execution_count": 70,
   "metadata": {},
   "outputs": [
    {
     "data": {
      "text/plain": [
       "7.38905609893065"
      ]
     },
     "execution_count": 70,
     "metadata": {},
     "output_type": "execute_result"
    }
   ],
   "source": [
    "math.exp(2)#...exponential value of 2"
   ]
  },
  {
   "cell_type": "code",
   "execution_count": 71,
   "metadata": {},
   "outputs": [
    {
     "data": {
      "text/plain": [
       "5.0"
      ]
     },
     "execution_count": 71,
     "metadata": {},
     "output_type": "execute_result"
    }
   ],
   "source": [
    "math.fmod(77,12)#..this will give remainder or modulus"
   ]
  },
  {
   "cell_type": "code",
   "execution_count": 73,
   "metadata": {},
   "outputs": [
    {
     "data": {
      "text/plain": [
       "2.0"
      ]
     },
     "execution_count": 73,
     "metadata": {},
     "output_type": "execute_result"
    }
   ],
   "source": [
    "math.log(100,10) #...finding log of 100 at base 10"
   ]
  },
  {
   "cell_type": "code",
   "execution_count": 74,
   "metadata": {},
   "outputs": [
    {
     "data": {
      "text/plain": [
       "8.0"
      ]
     },
     "execution_count": 74,
     "metadata": {},
     "output_type": "execute_result"
    }
   ],
   "source": [
    "math.sqrt(64)"
   ]
  },
  {
   "cell_type": "code",
   "execution_count": 76,
   "metadata": {},
   "outputs": [
    {
     "data": {
      "text/plain": [
       "0.8939966636005579"
      ]
     },
     "execution_count": 76,
     "metadata": {},
     "output_type": "execute_result"
    }
   ],
   "source": [
    "math.sin(90)"
   ]
  },
  {
   "cell_type": "code",
   "execution_count": 77,
   "metadata": {},
   "outputs": [
    {
     "data": {
      "text/plain": [
       "57.29577951308232"
      ]
     },
     "execution_count": 77,
     "metadata": {},
     "output_type": "execute_result"
    }
   ],
   "source": [
    "math.degrees(1)"
   ]
  },
  {
   "cell_type": "markdown",
   "metadata": {},
   "source": [
    "# Model building starts here"
   ]
  },
  {
   "cell_type": "code",
   "execution_count": 85,
   "metadata": {},
   "outputs": [],
   "source": [
    "import pandas as pd\n",
    "import numpy as np"
   ]
  },
  {
   "cell_type": "markdown",
   "metadata": {},
   "source": [
    "# Logistic Regression"
   ]
  },
  {
   "cell_type": "code",
   "execution_count": null,
   "metadata": {},
   "outputs": [],
   "source": [
    "new_emp_data['Age_new'] = np.where(new_emp_data['Age']>=35, '2', '1') #..WE created new column by grouping age in "
   ]
  },
  {
   "cell_type": "code",
   "execution_count": null,
   "metadata": {},
   "outputs": [],
   "source": []
  },
  {
   "cell_type": "code",
   "execution_count": null,
   "metadata": {},
   "outputs": [],
   "source": []
  },
  {
   "cell_type": "code",
   "execution_count": null,
   "metadata": {},
   "outputs": [],
   "source": []
  },
  {
   "cell_type": "code",
   "execution_count": null,
   "metadata": {},
   "outputs": [],
   "source": []
  },
  {
   "cell_type": "code",
   "execution_count": null,
   "metadata": {},
   "outputs": [],
   "source": []
  },
  {
   "cell_type": "code",
   "execution_count": null,
   "metadata": {},
   "outputs": [],
   "source": []
  },
  {
   "cell_type": "code",
   "execution_count": null,
   "metadata": {},
   "outputs": [],
   "source": []
  },
  {
   "cell_type": "code",
   "execution_count": null,
   "metadata": {},
   "outputs": [],
   "source": []
  },
  {
   "cell_type": "code",
   "execution_count": null,
   "metadata": {},
   "outputs": [],
   "source": []
  }
 ],
 "metadata": {
  "kernelspec": {
   "display_name": "Python 3",
   "language": "python",
   "name": "python3"
  },
  "language_info": {
   "codemirror_mode": {
    "name": "ipython",
    "version": 3
   },
   "file_extension": ".py",
   "mimetype": "text/x-python",
   "name": "python",
   "nbconvert_exporter": "python",
   "pygments_lexer": "ipython3",
   "version": "3.7.4"
  }
 },
 "nbformat": 4,
 "nbformat_minor": 2
}
